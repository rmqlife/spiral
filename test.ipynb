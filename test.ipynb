{
 "cells": [
  {
   "cell_type": "code",
   "execution_count": 3,
   "metadata": {},
   "outputs": [
    {
     "name": "stdout",
     "output_type": "stream",
     "text": [
      "INFO:tensorflow:Saver not created because there are no variables in the graph to restore\n"
     ]
    },
    {
     "name": "stderr",
     "output_type": "stream",
     "text": [
      "INFO:tensorflow:Saver not created because there are no variables in the graph to restore\n"
     ]
    },
    {
     "name": "stdout",
     "output_type": "stream",
     "text": [
      "INFO:tensorflow:Saver not created because there are no variables in the graph to restore\n"
     ]
    },
    {
     "name": "stderr",
     "output_type": "stream",
     "text": [
      "INFO:tensorflow:Saver not created because there are no variables in the graph to restore\n"
     ]
    },
    {
     "name": "stdout",
     "output_type": "stream",
     "text": [
      "{'pressure': array(9, dtype=int32), 'end': array(1023, dtype=int32), 'flag': array(1, dtype=int32), 'control': array(30, dtype=int32), 'size': array(5, dtype=int32), 'blue': array(11, dtype=int32), 'green': array(15, dtype=int32), 'red': array(14, dtype=int32)}\n",
      "canvas (64, 64, 3) 1.0 1.0\n",
      "{'pressure': array(9, dtype=int32), 'end': array(1002, dtype=int32), 'flag': array(1, dtype=int32), 'control': array(1, dtype=int32), 'size': array(2, dtype=int32), 'blue': array(0, dtype=int32), 'green': array(0, dtype=int32), 'red': array(1, dtype=int32)}\n",
      "canvas (64, 64, 3) 1.0 1.0\n",
      "{'pressure': array(5, dtype=int32), 'end': array(1003, dtype=int32), 'flag': array(1, dtype=int32), 'control': array(15, dtype=int32), 'size': array(2, dtype=int32), 'blue': array(0, dtype=int32), 'green': array(0, dtype=int32), 'red': array(0, dtype=int32)}\n",
      "canvas (64, 64, 3) 1.0 1.0\n",
      "{'pressure': array(5, dtype=int32), 'end': array(174, dtype=int32), 'flag': array(1, dtype=int32), 'control': array(348, dtype=int32), 'size': array(2, dtype=int32), 'blue': array(0, dtype=int32), 'green': array(2, dtype=int32), 'red': array(7, dtype=int32)}\n",
      "canvas (64, 64, 3) 1.0 1.0\n",
      "{'pressure': array(9, dtype=int32), 'end': array(668, dtype=int32), 'flag': array(1, dtype=int32), 'control': array(27, dtype=int32), 'size': array(1, dtype=int32), 'blue': array(0, dtype=int32), 'green': array(0, dtype=int32), 'red': array(0, dtype=int32)}\n",
      "canvas (64, 64, 3) 1.0 1.0\n",
      "{'pressure': array(1, dtype=int32), 'end': array(205, dtype=int32), 'flag': array(1, dtype=int32), 'control': array(493, dtype=int32), 'size': array(1, dtype=int32), 'blue': array(1, dtype=int32), 'green': array(5, dtype=int32), 'red': array(11, dtype=int32)}\n",
      "canvas (64, 64, 3) 1.0 1.0\n",
      "{'pressure': array(5, dtype=int32), 'end': array(1008, dtype=int32), 'flag': array(1, dtype=int32), 'control': array(106, dtype=int32), 'size': array(3, dtype=int32), 'blue': array(3, dtype=int32), 'green': array(7, dtype=int32), 'red': array(10, dtype=int32)}\n",
      "canvas (64, 64, 3) 1.0 1.0\n",
      "{'pressure': array(2, dtype=int32), 'end': array(9, dtype=int32), 'flag': array(1, dtype=int32), 'control': array(28, dtype=int32), 'size': array(1, dtype=int32), 'blue': array(1, dtype=int32), 'green': array(6, dtype=int32), 'red': array(13, dtype=int32)}\n",
      "canvas (64, 64, 3) 1.0 1.0\n",
      "{'pressure': array(2, dtype=int32), 'end': array(752, dtype=int32), 'flag': array(1, dtype=int32), 'control': array(328, dtype=int32), 'size': array(1, dtype=int32), 'blue': array(0, dtype=int32), 'green': array(1, dtype=int32), 'red': array(9, dtype=int32)}\n",
      "canvas (64, 64, 3) 1.0 1.0\n",
      "{'pressure': array(5, dtype=int32), 'end': array(629, dtype=int32), 'flag': array(1, dtype=int32), 'control': array(514, dtype=int32), 'size': array(1, dtype=int32), 'blue': array(13, dtype=int32), 'green': array(15, dtype=int32), 'red': array(17, dtype=int32)}\n",
      "canvas (64, 64, 3) 1.0 1.0\n",
      "{'pressure': array(3, dtype=int32), 'end': array(691, dtype=int32), 'flag': array(1, dtype=int32), 'control': array(482, dtype=int32), 'size': array(1, dtype=int32), 'blue': array(15, dtype=int32), 'green': array(15, dtype=int32), 'red': array(17, dtype=int32)}\n",
      "canvas (64, 64, 3) 1.0 1.0\n",
      "{'pressure': array(0, dtype=int32), 'end': array(343, dtype=int32), 'flag': array(1, dtype=int32), 'control': array(114, dtype=int32), 'size': array(1, dtype=int32), 'blue': array(18, dtype=int32), 'green': array(19, dtype=int32), 'red': array(19, dtype=int32)}\n",
      "canvas (64, 64, 3) 1.0 1.0\n",
      "{'pressure': array(2, dtype=int32), 'end': array(466, dtype=int32), 'flag': array(1, dtype=int32), 'control': array(7, dtype=int32), 'size': array(2, dtype=int32), 'blue': array(18, dtype=int32), 'green': array(18, dtype=int32), 'red': array(19, dtype=int32)}\n",
      "canvas (64, 64, 3) 1.0 1.0\n",
      "{'pressure': array(2, dtype=int32), 'end': array(846, dtype=int32), 'flag': array(1, dtype=int32), 'control': array(984, dtype=int32), 'size': array(0, dtype=int32), 'blue': array(18, dtype=int32), 'green': array(19, dtype=int32), 'red': array(19, dtype=int32)}\n",
      "canvas (64, 64, 3) 1.0 1.0\n",
      "{'pressure': array(2, dtype=int32), 'end': array(424, dtype=int32), 'flag': array(1, dtype=int32), 'control': array(968, dtype=int32), 'size': array(0, dtype=int32), 'blue': array(16, dtype=int32), 'green': array(18, dtype=int32), 'red': array(19, dtype=int32)}\n",
      "canvas (64, 64, 3) 1.0 1.0\n",
      "{'pressure': array(1, dtype=int32), 'end': array(910, dtype=int32), 'flag': array(1, dtype=int32), 'control': array(258, dtype=int32), 'size': array(1, dtype=int32), 'blue': array(16, dtype=int32), 'green': array(16, dtype=int32), 'red': array(19, dtype=int32)}\n",
      "canvas (64, 64, 3) 1.0 1.0\n",
      "{'pressure': array(2, dtype=int32), 'end': array(484, dtype=int32), 'flag': array(1, dtype=int32), 'control': array(995, dtype=int32), 'size': array(0, dtype=int32), 'blue': array(19, dtype=int32), 'green': array(18, dtype=int32), 'red': array(18, dtype=int32)}\n",
      "canvas (64, 64, 3) 1.0 1.0\n",
      "{'pressure': array(3, dtype=int32), 'end': array(929, dtype=int32), 'flag': array(1, dtype=int32), 'control': array(116, dtype=int32), 'size': array(0, dtype=int32), 'blue': array(18, dtype=int32), 'green': array(19, dtype=int32), 'red': array(19, dtype=int32)}\n",
      "canvas (64, 64, 3) 1.0 1.0\n",
      "{'pressure': array(2, dtype=int32), 'end': array(511, dtype=int32), 'flag': array(1, dtype=int32), 'control': array(224, dtype=int32), 'size': array(0, dtype=int32), 'blue': array(19, dtype=int32), 'green': array(19, dtype=int32), 'red': array(19, dtype=int32)}\n",
      "canvas (64, 64, 3) 1.0 1.0\n"
     ]
    },
    {
     "data": {
      "text/plain": [
       "<matplotlib.image.AxesImage at 0x7f5783819550>"
      ]
     },
     "execution_count": 3,
     "metadata": {},
     "output_type": "execute_result"
    },
    {
     "data": {
      "image/png": "[encoded data removed]",
      "text/plain": [
       "<Figure size 432x288 with 1 Axes>"
      ]
     },
     "metadata": {
      "needs_background": "light"
     },
     "output_type": "display_data"
    }
   ],
   "source": [
    "import matplotlib.pyplot as plt\n",
    "\n",
    "import spiral.agents.default as default_agent\n",
    "import spiral.agents.utils as agent_utils\n",
    "import spiral.environments.libmypaint as libmypaint\n",
    "\n",
    "import numpy as np\n",
    "\n",
    "# The path to a TF-Hub module.\n",
    "MODULE_PATH = \"https://tfhub.dev/deepmind/spiral/default-wgangp-celebahq64-gen-19steps/agent4/1\"\n",
    "# The folder containing `libmypaint` brushes.\n",
    "BRUSHES_PATH = \"/home/rmqlife/work/spiral/third_party/mypaint-brushes-1.3.0/brushes\"\n",
    "\n",
    "# Here, we create an environment.\n",
    "env = libmypaint.LibMyPaint(episode_length=20,\n",
    "                            canvas_width=64,\n",
    "                            grid_width=32,\n",
    "                            brush_type=\"classic/dry_brush\",\n",
    "                            brush_sizes=[1, 2, 4, 8, 12, 24],\n",
    "                            use_color=True,\n",
    "                            use_pressure=True,\n",
    "                            use_alpha=False,\n",
    "                            background=\"white\",\n",
    "                            brushes_basedir=BRUSHES_PATH)\n",
    "\n",
    "\n",
    "# Now we load the agent from a snapshot.\n",
    "initial_state, step = agent_utils.get_module_wrappers(MODULE_PATH)\n",
    "\n",
    "# Everything is ready for sampling.\n",
    "state = initial_state()\n",
    "noise_sample = np.random.normal(size=(10,)).astype(np.float32)\n",
    "\n",
    "time_step = env.reset()\n",
    "for t in range(19):\n",
    "    time_step.observation[\"noise_sample\"] = noise_sample\n",
    "    action, state = step(time_step.step_type, time_step.observation, state)\n",
    "    print(action)\n",
    "    time_step = env.step(action)\n",
    "    canvas = time_step.observation[\"canvas\"]\n",
    "    print('canvas', canvas.shape, np.min(canvas), np.max(canvas))\n",
    "\n",
    "# Show the sample.\n",
    "plt.close(\"all\")\n",
    "plt.imshow(time_step.observation[\"canvas\"], interpolation=\"nearest\")"
   ]
  },
  {
   "cell_type": "code",
   "execution_count": 5,
   "metadata": {},
   "outputs": [
    {
     "name": "stdout",
     "output_type": "stream",
     "text": [
      "/home/rmqlife/work/spiral/third_party/mypaint-brushes-1.3.0/brushes\n",
      "classic       FX_blender_prev.png     Makefile.am\t    ramon\r\n",
      "deevad\t      kaerhon_v1\t      order.conf\t    tanda\r\n",
      "experimental  label-brush-mypaint.sh  prev-template.xcf.gz\r\n"
     ]
    }
   ],
   "source": [
    "print(BRUSHES_PATH)\n",
    "!ls $BRUSHES_PATH"
   ]
  },
  {
   "cell_type": "code",
   "execution_count": null,
   "metadata": {},
   "outputs": [],
   "source": []
  }
 ],
 "metadata": {
  "kernelspec": {
   "display_name": "Python 3",
   "language": "python",
   "name": "python3"
  },
  "language_info": {
   "codemirror_mode": {
    "name": "ipython",
    "version": 3
   },
   "file_extension": ".py",
   "mimetype": "text/x-python",
   "name": "python",
   "nbconvert_exporter": "python",
   "pygments_lexer": "ipython3",
   "version": "3.6.12"
  }
 },
 "nbformat": 4,
 "nbformat_minor": 2
}
